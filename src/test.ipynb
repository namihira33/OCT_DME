{
 "cells": [
  {
   "cell_type": "code",
   "execution_count": 4,
   "metadata": {},
   "outputs": [
    {
     "name": "stdout",
     "output_type": "stream",
     "text": [
      "{(512, 512): 10144, (1536, 1536): 374, (768, 768): 816, (1024, 1024): 14}\n"
     ]
    }
   ],
   "source": [
    "from glob import glob\n",
    "from PIL import Image\n",
    "\n",
    "img_size_dict = {}\n",
    "\n",
    "img_paths = glob('C:/Users/syunt/medicaldata/image/OCT/train/DME/*.jpeg')\n",
    "\n",
    "for img_path in img_paths:\n",
    "    img = Image.open(img_path)\n",
    "    if img.size in img_size_dict:\n",
    "        img_size_dict[img.size] += 1\n",
    "    else:\n",
    "        img_size_dict[img.size] = 1\n",
    "\n",
    "print(img_size_dict)"
   ]
  }
 ],
 "metadata": {
  "kernelspec": {
   "display_name": "Python 3",
   "language": "python",
   "name": "python3"
  },
  "language_info": {
   "codemirror_mode": {
    "name": "ipython",
    "version": 3
   },
   "file_extension": ".py",
   "mimetype": "text/x-python",
   "name": "python",
   "nbconvert_exporter": "python",
   "pygments_lexer": "ipython3",
   "version": "3.11.6"
  }
 },
 "nbformat": 4,
 "nbformat_minor": 2
}
